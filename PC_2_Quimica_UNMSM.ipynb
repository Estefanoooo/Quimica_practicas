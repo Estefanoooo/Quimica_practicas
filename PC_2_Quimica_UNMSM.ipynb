{
  "nbformat": 4,
  "nbformat_minor": 0,
  "metadata": {
    "colab": {
      "provenance": [],
      "include_colab_link": true
    },
    "kernelspec": {
      "name": "python3",
      "display_name": "Python 3"
    },
    "language_info": {
      "name": "python"
    },
    "widgets": {
      "application/vnd.jupyter.widget-state+json": {
        "dfc9c1761e0b4072b35c9b10964c7608": {
          "model_module": "faerun-notebook",
          "model_name": "SmilesDrawerModel",
          "model_module_version": "^0.1.5",
          "state": {
            "_dom_classes": [],
            "_model_module": "faerun-notebook",
            "_model_module_version": "^0.1.5",
            "_model_name": "SmilesDrawerModel",
            "_view_count": null,
            "_view_module": "faerun-notebook",
            "_view_module_version": "^0.1.5",
            "_view_name": "SmilesDrawerView",
            "background": "#1e1e1e",
            "border": true,
            "layout": "IPY_MODEL_ba92475e16494525bfeee425749b0758",
            "options": {
              "scale": 1.25
            },
            "output": "svg",
            "theme": "dark",
            "value": [
              [
                "Rxn",
                "CC=CC.O=O>>C(=O)=O.O"
              ]
            ]
          }
        },
        "ba92475e16494525bfeee425749b0758": {
          "model_module": "@jupyter-widgets/base",
          "model_name": "LayoutModel",
          "model_module_version": "1.2.0",
          "state": {
            "_model_module": "@jupyter-widgets/base",
            "_model_module_version": "1.2.0",
            "_model_name": "LayoutModel",
            "_view_count": null,
            "_view_module": "@jupyter-widgets/base",
            "_view_module_version": "1.2.0",
            "_view_name": "LayoutView",
            "align_content": null,
            "align_items": null,
            "align_self": null,
            "border": null,
            "bottom": null,
            "display": null,
            "flex": null,
            "flex_flow": null,
            "grid_area": null,
            "grid_auto_columns": null,
            "grid_auto_flow": null,
            "grid_auto_rows": null,
            "grid_column": null,
            "grid_gap": null,
            "grid_row": null,
            "grid_template_areas": null,
            "grid_template_columns": null,
            "grid_template_rows": null,
            "height": null,
            "justify_content": null,
            "justify_items": null,
            "left": null,
            "margin": null,
            "max_height": null,
            "max_width": null,
            "min_height": null,
            "min_width": null,
            "object_fit": null,
            "object_position": null,
            "order": null,
            "overflow": null,
            "overflow_x": null,
            "overflow_y": null,
            "padding": null,
            "right": null,
            "top": null,
            "visibility": null,
            "width": null
          }
        }
      }
    }
  },
  "cells": [
    {
      "cell_type": "markdown",
      "metadata": {
        "id": "view-in-github",
        "colab_type": "text"
      },
      "source": [
        "<a href=\"https://colab.research.google.com/github/Estefanoooo/Quimica_practicas/blob/main/PC_2_Quimica_UNMSM.ipynb\" target=\"_parent\"><img src=\"https://colab.research.google.com/assets/colab-badge.svg\" alt=\"Open In Colab\"/></a>"
      ]
    },
    {
      "cell_type": "markdown",
      "source": [
        "$$\\Large \\textit{UNMSM | Química}$$\n",
        "$$\\large \\textbf{PC Nº2 | Materia y clasificación}$$\n",
        "\n",
        "_Profesor: Jesus Alvarado Huayhuaz_"
      ],
      "metadata": {
        "id": "sDJAjbaQOj4x"
      }
    },
    {
      "cell_type": "markdown",
      "source": [
        "Todas las indicaciones para la presentación de la práctica son explicadas en clase y brindadas en el material de enunciado de preguntas en formato PDF."
      ],
      "metadata": {
        "id": "_DsTzWLoP7Fy"
      }
    },
    {
      "cell_type": "markdown",
      "source": [
        "Leer rxn balanceo del github del profesor"
      ],
      "metadata": {
        "id": "ZAjAWnWXS5xP"
      }
    },
    {
      "cell_type": "markdown",
      "source": [
        "## Pregunta 1: DataFrames y listas en python (4 puntos)"
      ],
      "metadata": {
        "id": "obD7c2igOD6t"
      }
    },
    {
      "cell_type": "markdown",
      "source": [
        "Usando PeriodicTable, crea una tabla con 20 elementos químicos y en las columnas considera: nombre, simbolo, masa_atomica, numero_atomico\ty valencias. Puedes ayudarte del siguiente [material](https://github.com/inefable12/UNMSM_quimica_2023/blob/main/Python_para_quimica_2023.ipynb)."
      ],
      "metadata": {
        "id": "gV4WKDa72eez"
      }
    },
    {
      "cell_type": "code",
      "source": [
        "!pip install rdkit"
      ],
      "metadata": {
        "id": "bV54HvAyByCr"
      },
      "execution_count": null,
      "outputs": []
    },
    {
      "cell_type": "code",
      "source": [
        "from rdkit import Chem\n",
        "\n",
        "PeriodicTable = Chem.GetPeriodicTable()"
      ],
      "metadata": {
        "id": "9LBMrlcpB3jd"
      },
      "execution_count": null,
      "outputs": []
    },
    {
      "cell_type": "code",
      "source": [
        "element_symbols = []\n",
        "\n",
        "for i in range(24,45):\n",
        "  element_symbols.append(PeriodicTable.GetElementSymbol(i))\n",
        "\n",
        "element_symbols"
      ],
      "metadata": {
        "id": "TOhFzbhTCwLt"
      },
      "execution_count": null,
      "outputs": []
    },
    {
      "cell_type": "code",
      "source": [
        "numero_atomico = [PeriodicTable.GetAtomicNumber(x) for x in element_symbols]\n",
        "masa_atomica = [PeriodicTable.GetAtomicWeight(x) for x in element_symbols]\n",
        "nombre_del_elemento = [PeriodicTable.GetElementName(x) for x in range(24,45)]\n",
        "valencias = [PeriodicTable.GetValenceList(x) for x in range(24,45)]\n",
        "\n",
        "#usar pubchempy después"
      ],
      "metadata": {
        "id": "cHGEl2mnClzF"
      },
      "execution_count": null,
      "outputs": []
    },
    {
      "cell_type": "code",
      "source": [
        "import pandas as pd\n"
      ],
      "metadata": {
        "id": "_i-ILY7EFDUL"
      },
      "execution_count": null,
      "outputs": []
    },
    {
      "cell_type": "code",
      "source": [
        "data = {\"Nombre\": nombre_del_elemento, 'Simbolo': element_symbols,\n",
        "        'Masa Atomica': masa_atomica, 'Numero Atomico': numero_atomico,\n",
        "        'valencias': valencias}\n",
        "df = pd.DataFrame(data)\n",
        "df"
      ],
      "metadata": {
        "colab": {
          "base_uri": "https://localhost:8080/",
          "height": 708
        },
        "id": "mT4tu9qUCEq3",
        "outputId": "1b2a0423-aca3-4556-edd6-56fb3a852368"
      },
      "execution_count": null,
      "outputs": [
        {
          "output_type": "execute_result",
          "data": {
            "text/plain": [
              "        Nombre Simbolo  Masa Atomica  Numero Atomico  valencias\n",
              "0     Chromium      Cr        51.996              24       [-1]\n",
              "1    Manganese      Mn        54.938              25       [-1]\n",
              "2         Iron      Fe        55.845              26       [-1]\n",
              "3       Cobalt      Co        58.933              27       [-1]\n",
              "4       Nickel      Ni        58.693              28       [-1]\n",
              "5       Copper      Cu        63.546              29       [-1]\n",
              "6         Zinc      Zn        65.390              30       [-1]\n",
              "7      Gallium      Ga        69.723              31        [3]\n",
              "8    Germanium      Ge        72.610              32        [4]\n",
              "9      Arsenic      As        74.922              33  [3, 5, 7]\n",
              "10    Selenium      Se        78.960              34  [2, 4, 6]\n",
              "11     Bromine      Br        79.904              35        [1]\n",
              "12     Krypton      Kr        83.800              36        [0]\n",
              "13    Rubidium      Rb        85.468              37        [1]\n",
              "14   Strontium      Sr        87.620              38    [2, -1]\n",
              "15     Yttrium       Y        88.906              39       [-1]\n",
              "16   Zirconium      Zr        91.224              40       [-1]\n",
              "17     Niobium      Nb        92.906              41       [-1]\n",
              "18  Molybdenum      Mo        95.940              42       [-1]\n",
              "19  Technetium      Tc        98.000              43       [-1]\n",
              "20   Ruthenium      Ru       101.070              44       [-1]"
            ],
            "text/html": [
              "\n",
              "  <div id=\"df-7baf64c1-c977-4df1-9a36-cb99a3f93b4e\" class=\"colab-df-container\">\n",
              "    <div>\n",
              "<style scoped>\n",
              "    .dataframe tbody tr th:only-of-type {\n",
              "        vertical-align: middle;\n",
              "    }\n",
              "\n",
              "    .dataframe tbody tr th {\n",
              "        vertical-align: top;\n",
              "    }\n",
              "\n",
              "    .dataframe thead th {\n",
              "        text-align: right;\n",
              "    }\n",
              "</style>\n",
              "<table border=\"1\" class=\"dataframe\">\n",
              "  <thead>\n",
              "    <tr style=\"text-align: right;\">\n",
              "      <th></th>\n",
              "      <th>Nombre</th>\n",
              "      <th>Simbolo</th>\n",
              "      <th>Masa Atomica</th>\n",
              "      <th>Numero Atomico</th>\n",
              "      <th>valencias</th>\n",
              "    </tr>\n",
              "  </thead>\n",
              "  <tbody>\n",
              "    <tr>\n",
              "      <th>0</th>\n",
              "      <td>Chromium</td>\n",
              "      <td>Cr</td>\n",
              "      <td>51.996</td>\n",
              "      <td>24</td>\n",
              "      <td>[-1]</td>\n",
              "    </tr>\n",
              "    <tr>\n",
              "      <th>1</th>\n",
              "      <td>Manganese</td>\n",
              "      <td>Mn</td>\n",
              "      <td>54.938</td>\n",
              "      <td>25</td>\n",
              "      <td>[-1]</td>\n",
              "    </tr>\n",
              "    <tr>\n",
              "      <th>2</th>\n",
              "      <td>Iron</td>\n",
              "      <td>Fe</td>\n",
              "      <td>55.845</td>\n",
              "      <td>26</td>\n",
              "      <td>[-1]</td>\n",
              "    </tr>\n",
              "    <tr>\n",
              "      <th>3</th>\n",
              "      <td>Cobalt</td>\n",
              "      <td>Co</td>\n",
              "      <td>58.933</td>\n",
              "      <td>27</td>\n",
              "      <td>[-1]</td>\n",
              "    </tr>\n",
              "    <tr>\n",
              "      <th>4</th>\n",
              "      <td>Nickel</td>\n",
              "      <td>Ni</td>\n",
              "      <td>58.693</td>\n",
              "      <td>28</td>\n",
              "      <td>[-1]</td>\n",
              "    </tr>\n",
              "    <tr>\n",
              "      <th>5</th>\n",
              "      <td>Copper</td>\n",
              "      <td>Cu</td>\n",
              "      <td>63.546</td>\n",
              "      <td>29</td>\n",
              "      <td>[-1]</td>\n",
              "    </tr>\n",
              "    <tr>\n",
              "      <th>6</th>\n",
              "      <td>Zinc</td>\n",
              "      <td>Zn</td>\n",
              "      <td>65.390</td>\n",
              "      <td>30</td>\n",
              "      <td>[-1]</td>\n",
              "    </tr>\n",
              "    <tr>\n",
              "      <th>7</th>\n",
              "      <td>Gallium</td>\n",
              "      <td>Ga</td>\n",
              "      <td>69.723</td>\n",
              "      <td>31</td>\n",
              "      <td>[3]</td>\n",
              "    </tr>\n",
              "    <tr>\n",
              "      <th>8</th>\n",
              "      <td>Germanium</td>\n",
              "      <td>Ge</td>\n",
              "      <td>72.610</td>\n",
              "      <td>32</td>\n",
              "      <td>[4]</td>\n",
              "    </tr>\n",
              "    <tr>\n",
              "      <th>9</th>\n",
              "      <td>Arsenic</td>\n",
              "      <td>As</td>\n",
              "      <td>74.922</td>\n",
              "      <td>33</td>\n",
              "      <td>[3, 5, 7]</td>\n",
              "    </tr>\n",
              "    <tr>\n",
              "      <th>10</th>\n",
              "      <td>Selenium</td>\n",
              "      <td>Se</td>\n",
              "      <td>78.960</td>\n",
              "      <td>34</td>\n",
              "      <td>[2, 4, 6]</td>\n",
              "    </tr>\n",
              "    <tr>\n",
              "      <th>11</th>\n",
              "      <td>Bromine</td>\n",
              "      <td>Br</td>\n",
              "      <td>79.904</td>\n",
              "      <td>35</td>\n",
              "      <td>[1]</td>\n",
              "    </tr>\n",
              "    <tr>\n",
              "      <th>12</th>\n",
              "      <td>Krypton</td>\n",
              "      <td>Kr</td>\n",
              "      <td>83.800</td>\n",
              "      <td>36</td>\n",
              "      <td>[0]</td>\n",
              "    </tr>\n",
              "    <tr>\n",
              "      <th>13</th>\n",
              "      <td>Rubidium</td>\n",
              "      <td>Rb</td>\n",
              "      <td>85.468</td>\n",
              "      <td>37</td>\n",
              "      <td>[1]</td>\n",
              "    </tr>\n",
              "    <tr>\n",
              "      <th>14</th>\n",
              "      <td>Strontium</td>\n",
              "      <td>Sr</td>\n",
              "      <td>87.620</td>\n",
              "      <td>38</td>\n",
              "      <td>[2, -1]</td>\n",
              "    </tr>\n",
              "    <tr>\n",
              "      <th>15</th>\n",
              "      <td>Yttrium</td>\n",
              "      <td>Y</td>\n",
              "      <td>88.906</td>\n",
              "      <td>39</td>\n",
              "      <td>[-1]</td>\n",
              "    </tr>\n",
              "    <tr>\n",
              "      <th>16</th>\n",
              "      <td>Zirconium</td>\n",
              "      <td>Zr</td>\n",
              "      <td>91.224</td>\n",
              "      <td>40</td>\n",
              "      <td>[-1]</td>\n",
              "    </tr>\n",
              "    <tr>\n",
              "      <th>17</th>\n",
              "      <td>Niobium</td>\n",
              "      <td>Nb</td>\n",
              "      <td>92.906</td>\n",
              "      <td>41</td>\n",
              "      <td>[-1]</td>\n",
              "    </tr>\n",
              "    <tr>\n",
              "      <th>18</th>\n",
              "      <td>Molybdenum</td>\n",
              "      <td>Mo</td>\n",
              "      <td>95.940</td>\n",
              "      <td>42</td>\n",
              "      <td>[-1]</td>\n",
              "    </tr>\n",
              "    <tr>\n",
              "      <th>19</th>\n",
              "      <td>Technetium</td>\n",
              "      <td>Tc</td>\n",
              "      <td>98.000</td>\n",
              "      <td>43</td>\n",
              "      <td>[-1]</td>\n",
              "    </tr>\n",
              "    <tr>\n",
              "      <th>20</th>\n",
              "      <td>Ruthenium</td>\n",
              "      <td>Ru</td>\n",
              "      <td>101.070</td>\n",
              "      <td>44</td>\n",
              "      <td>[-1]</td>\n",
              "    </tr>\n",
              "  </tbody>\n",
              "</table>\n",
              "</div>\n",
              "    <div class=\"colab-df-buttons\">\n",
              "\n",
              "  <div class=\"colab-df-container\">\n",
              "    <button class=\"colab-df-convert\" onclick=\"convertToInteractive('df-7baf64c1-c977-4df1-9a36-cb99a3f93b4e')\"\n",
              "            title=\"Convert this dataframe to an interactive table.\"\n",
              "            style=\"display:none;\">\n",
              "\n",
              "  <svg xmlns=\"http://www.w3.org/2000/svg\" height=\"24px\" viewBox=\"0 -960 960 960\">\n",
              "    <path d=\"M120-120v-720h720v720H120Zm60-500h600v-160H180v160Zm220 220h160v-160H400v160Zm0 220h160v-160H400v160ZM180-400h160v-160H180v160Zm440 0h160v-160H620v160ZM180-180h160v-160H180v160Zm440 0h160v-160H620v160Z\"/>\n",
              "  </svg>\n",
              "    </button>\n",
              "\n",
              "  <style>\n",
              "    .colab-df-container {\n",
              "      display:flex;\n",
              "      gap: 12px;\n",
              "    }\n",
              "\n",
              "    .colab-df-convert {\n",
              "      background-color: #E8F0FE;\n",
              "      border: none;\n",
              "      border-radius: 50%;\n",
              "      cursor: pointer;\n",
              "      display: none;\n",
              "      fill: #1967D2;\n",
              "      height: 32px;\n",
              "      padding: 0 0 0 0;\n",
              "      width: 32px;\n",
              "    }\n",
              "\n",
              "    .colab-df-convert:hover {\n",
              "      background-color: #E2EBFA;\n",
              "      box-shadow: 0px 1px 2px rgba(60, 64, 67, 0.3), 0px 1px 3px 1px rgba(60, 64, 67, 0.15);\n",
              "      fill: #174EA6;\n",
              "    }\n",
              "\n",
              "    .colab-df-buttons div {\n",
              "      margin-bottom: 4px;\n",
              "    }\n",
              "\n",
              "    [theme=dark] .colab-df-convert {\n",
              "      background-color: #3B4455;\n",
              "      fill: #D2E3FC;\n",
              "    }\n",
              "\n",
              "    [theme=dark] .colab-df-convert:hover {\n",
              "      background-color: #434B5C;\n",
              "      box-shadow: 0px 1px 3px 1px rgba(0, 0, 0, 0.15);\n",
              "      filter: drop-shadow(0px 1px 2px rgba(0, 0, 0, 0.3));\n",
              "      fill: #FFFFFF;\n",
              "    }\n",
              "  </style>\n",
              "\n",
              "    <script>\n",
              "      const buttonEl =\n",
              "        document.querySelector('#df-7baf64c1-c977-4df1-9a36-cb99a3f93b4e button.colab-df-convert');\n",
              "      buttonEl.style.display =\n",
              "        google.colab.kernel.accessAllowed ? 'block' : 'none';\n",
              "\n",
              "      async function convertToInteractive(key) {\n",
              "        const element = document.querySelector('#df-7baf64c1-c977-4df1-9a36-cb99a3f93b4e');\n",
              "        const dataTable =\n",
              "          await google.colab.kernel.invokeFunction('convertToInteractive',\n",
              "                                                    [key], {});\n",
              "        if (!dataTable) return;\n",
              "\n",
              "        const docLinkHtml = 'Like what you see? Visit the ' +\n",
              "          '<a target=\"_blank\" href=https://colab.research.google.com/notebooks/data_table.ipynb>data table notebook</a>'\n",
              "          + ' to learn more about interactive tables.';\n",
              "        element.innerHTML = '';\n",
              "        dataTable['output_type'] = 'display_data';\n",
              "        await google.colab.output.renderOutput(dataTable, element);\n",
              "        const docLink = document.createElement('div');\n",
              "        docLink.innerHTML = docLinkHtml;\n",
              "        element.appendChild(docLink);\n",
              "      }\n",
              "    </script>\n",
              "  </div>\n",
              "\n",
              "\n",
              "<div id=\"df-61b9ba8d-f593-4ffd-83b8-a356d070b450\">\n",
              "  <button class=\"colab-df-quickchart\" onclick=\"quickchart('df-61b9ba8d-f593-4ffd-83b8-a356d070b450')\"\n",
              "            title=\"Suggest charts.\"\n",
              "            style=\"display:none;\">\n",
              "\n",
              "<svg xmlns=\"http://www.w3.org/2000/svg\" height=\"24px\"viewBox=\"0 0 24 24\"\n",
              "     width=\"24px\">\n",
              "    <g>\n",
              "        <path d=\"M19 3H5c-1.1 0-2 .9-2 2v14c0 1.1.9 2 2 2h14c1.1 0 2-.9 2-2V5c0-1.1-.9-2-2-2zM9 17H7v-7h2v7zm4 0h-2V7h2v10zm4 0h-2v-4h2v4z\"/>\n",
              "    </g>\n",
              "</svg>\n",
              "  </button>\n",
              "\n",
              "<style>\n",
              "  .colab-df-quickchart {\n",
              "      --bg-color: #E8F0FE;\n",
              "      --fill-color: #1967D2;\n",
              "      --hover-bg-color: #E2EBFA;\n",
              "      --hover-fill-color: #174EA6;\n",
              "      --disabled-fill-color: #AAA;\n",
              "      --disabled-bg-color: #DDD;\n",
              "  }\n",
              "\n",
              "  [theme=dark] .colab-df-quickchart {\n",
              "      --bg-color: #3B4455;\n",
              "      --fill-color: #D2E3FC;\n",
              "      --hover-bg-color: #434B5C;\n",
              "      --hover-fill-color: #FFFFFF;\n",
              "      --disabled-bg-color: #3B4455;\n",
              "      --disabled-fill-color: #666;\n",
              "  }\n",
              "\n",
              "  .colab-df-quickchart {\n",
              "    background-color: var(--bg-color);\n",
              "    border: none;\n",
              "    border-radius: 50%;\n",
              "    cursor: pointer;\n",
              "    display: none;\n",
              "    fill: var(--fill-color);\n",
              "    height: 32px;\n",
              "    padding: 0;\n",
              "    width: 32px;\n",
              "  }\n",
              "\n",
              "  .colab-df-quickchart:hover {\n",
              "    background-color: var(--hover-bg-color);\n",
              "    box-shadow: 0 1px 2px rgba(60, 64, 67, 0.3), 0 1px 3px 1px rgba(60, 64, 67, 0.15);\n",
              "    fill: var(--button-hover-fill-color);\n",
              "  }\n",
              "\n",
              "  .colab-df-quickchart-complete:disabled,\n",
              "  .colab-df-quickchart-complete:disabled:hover {\n",
              "    background-color: var(--disabled-bg-color);\n",
              "    fill: var(--disabled-fill-color);\n",
              "    box-shadow: none;\n",
              "  }\n",
              "\n",
              "  .colab-df-spinner {\n",
              "    border: 2px solid var(--fill-color);\n",
              "    border-color: transparent;\n",
              "    border-bottom-color: var(--fill-color);\n",
              "    animation:\n",
              "      spin 1s steps(1) infinite;\n",
              "  }\n",
              "\n",
              "  @keyframes spin {\n",
              "    0% {\n",
              "      border-color: transparent;\n",
              "      border-bottom-color: var(--fill-color);\n",
              "      border-left-color: var(--fill-color);\n",
              "    }\n",
              "    20% {\n",
              "      border-color: transparent;\n",
              "      border-left-color: var(--fill-color);\n",
              "      border-top-color: var(--fill-color);\n",
              "    }\n",
              "    30% {\n",
              "      border-color: transparent;\n",
              "      border-left-color: var(--fill-color);\n",
              "      border-top-color: var(--fill-color);\n",
              "      border-right-color: var(--fill-color);\n",
              "    }\n",
              "    40% {\n",
              "      border-color: transparent;\n",
              "      border-right-color: var(--fill-color);\n",
              "      border-top-color: var(--fill-color);\n",
              "    }\n",
              "    60% {\n",
              "      border-color: transparent;\n",
              "      border-right-color: var(--fill-color);\n",
              "    }\n",
              "    80% {\n",
              "      border-color: transparent;\n",
              "      border-right-color: var(--fill-color);\n",
              "      border-bottom-color: var(--fill-color);\n",
              "    }\n",
              "    90% {\n",
              "      border-color: transparent;\n",
              "      border-bottom-color: var(--fill-color);\n",
              "    }\n",
              "  }\n",
              "</style>\n",
              "\n",
              "  <script>\n",
              "    async function quickchart(key) {\n",
              "      const quickchartButtonEl =\n",
              "        document.querySelector('#' + key + ' button');\n",
              "      quickchartButtonEl.disabled = true;  // To prevent multiple clicks.\n",
              "      quickchartButtonEl.classList.add('colab-df-spinner');\n",
              "      try {\n",
              "        const charts = await google.colab.kernel.invokeFunction(\n",
              "            'suggestCharts', [key], {});\n",
              "      } catch (error) {\n",
              "        console.error('Error during call to suggestCharts:', error);\n",
              "      }\n",
              "      quickchartButtonEl.classList.remove('colab-df-spinner');\n",
              "      quickchartButtonEl.classList.add('colab-df-quickchart-complete');\n",
              "    }\n",
              "    (() => {\n",
              "      let quickchartButtonEl =\n",
              "        document.querySelector('#df-61b9ba8d-f593-4ffd-83b8-a356d070b450 button');\n",
              "      quickchartButtonEl.style.display =\n",
              "        google.colab.kernel.accessAllowed ? 'block' : 'none';\n",
              "    })();\n",
              "  </script>\n",
              "</div>\n",
              "    </div>\n",
              "  </div>\n"
            ]
          },
          "metadata": {},
          "execution_count": 37
        }
      ]
    },
    {
      "cell_type": "markdown",
      "source": [
        "## Pregunta 2: Configuración electrónica (4 puntos)"
      ],
      "metadata": {
        "id": "epzOadagLfPi"
      }
    },
    {
      "cell_type": "markdown",
      "source": [
        "Escribe un programa que lea el número atómico y me indique el número de electrones de valencia."
      ],
      "metadata": {
        "id": "MbAEOGPsjOWZ"
      }
    },
    {
      "cell_type": "code",
      "source": [
        "# Número de protones como input\n",
        "numero_atomico = int(input(\"ingresa el número de protones: \"))\n",
        "# Completa con tu código\n",
        "\n",
        "if numero_atomico <= 2:\n",
        "    electrones_valencia = numero_atomico\n",
        "    print(f'El número de electrones de valencia es {electrones_valencia}')\n",
        "elif numero_atomico <= 10:\n",
        "    electrones_valencia = numero_atomico - 2\n",
        "    print(f'El número de electrones de valencia es {electrones_valencia}')\n",
        "elif numero_atomico <= 18:\n",
        "    electrones_valencia = numero_atomico - 10\n",
        "    print(f'El número de electrones de valencia es {electrones_valencia}')\n",
        "elif numero_atomico <= 20:\n",
        "    electrones_valencia = numero_atomico - 18\n",
        "    print(f'El número de electrones de valencia es {electrones_valencia}')\n",
        "elif numero_atomico <= 30:\n",
        "    electrones_valencia = 2\n",
        "    print(f'El número de electrones de valencia es {electrones_valencia}')\n",
        "elif numero_atomico <= 36:\n",
        "    electrones_valencia = numero_atomico - 28\n",
        "    print(f'El número de electrones de valencia es {electrones_valencia}')\n",
        "elif numero_atomico <= 38:\n",
        "    electrones_valencia <= numero_atomico -36\n",
        "    print(f'El número de electrones de valencia es {electrones_valencia}')\n",
        "elif numero_atomico <= 48:\n",
        "    electrones_valencia = 2\n",
        "    print(f'El número de electrones de valencia es {electrones_valencia}')\n",
        "elif numero_atomico <=54:\n",
        "    electrones_valencia = numero_atomico - 46\n",
        "    print(f'El número de electrones de valencia es {electrones_valencia}')\n",
        "else:\n",
        "  print('Solo acepto hasta 54')\n"
      ],
      "metadata": {
        "id": "gJGX0p5QLetj",
        "colab": {
          "base_uri": "https://localhost:8080/"
        },
        "outputId": "2ad72dd2-5ec4-4737-f5de-f3c80964807e"
      },
      "execution_count": 4,
      "outputs": [
        {
          "output_type": "stream",
          "name": "stdout",
          "text": [
            "ingresa el número de protones: 24\n",
            "El número de electrones de valencia es 2\n"
          ]
        }
      ]
    },
    {
      "cell_type": "markdown",
      "source": [
        "# Pregunta 3: Molecularidad & compuestos covalentes (4 puntos)"
      ],
      "metadata": {
        "id": "8gxSHpD3LZsh"
      }
    },
    {
      "cell_type": "code",
      "source": [
        "#Código necesario para generar la imagen, no editar\n",
        "!pip install faerun-notebook==0.1.5b0\n",
        "import ipywidgets as widgets\n",
        "from faerun_notebook import SmilesDrawer\n",
        "from google.colab import output\n",
        "output.enable_custom_widget_manager()"
      ],
      "metadata": {
        "id": "JgF8Ohtbky65"
      },
      "execution_count": null,
      "outputs": []
    },
    {
      "cell_type": "markdown",
      "source": [
        "Balancea la siguiente reacción química y asigna todos los subíndices o moleculariedad."
      ],
      "metadata": {
        "id": "5sLC10D_oSrV"
      }
    },
    {
      "cell_type": "code",
      "source": [
        "SmilesDrawer(value=[(\"Rxn\", \"CC=CC.O=O>>C(=O)=O.O\")], theme='dark', background=\"#1e1e1e\", options={'scale': 1.25})"
      ],
      "metadata": {
        "colab": {
          "base_uri": "https://localhost:8080/",
          "height": 142,
          "referenced_widgets": [
            "dfc9c1761e0b4072b35c9b10964c7608",
            "ba92475e16494525bfeee425749b0758"
          ]
        },
        "id": "CC0mAXWmnYyN",
        "outputId": "115ef617-21e9-4ab4-ad84-826066fe1ce0"
      },
      "execution_count": 10,
      "outputs": [
        {
          "output_type": "display_data",
          "data": {
            "text/plain": [
              "SmilesDrawer(background='#1e1e1e', options={'scale': 1.25}, theme='dark', value=[('Rxn', 'CC=CC.O=O>>C(=O)=O.O…"
            ],
            "application/vnd.jupyter.widget-view+json": {
              "version_major": 2,
              "version_minor": 0,
              "model_id": "dfc9c1761e0b4072b35c9b10964c7608"
            }
          },
          "metadata": {
            "application/vnd.jupyter.widget-view+json": {
              "colab": {
                "custom_widget_manager": {
                  "url": "https://ssl.gstatic.com/colaboratory-static/widgets/colab-cdn-widget-manager/b3e629b1971e1542/manager.min.js"
                }
              }
            }
          }
        }
      ]
    },
    {
      "cell_type": "code",
      "source": [
        "!pip install chempy"
      ],
      "metadata": {
        "id": "ctAgXkSINhQN"
      },
      "execution_count": null,
      "outputs": []
    },
    {
      "cell_type": "code",
      "source": [
        "from chempy import balance_stoichiometry\n",
        "reac, prod = balance_stoichiometry({'C4H8', 'O2'}, {'CO2', 'H2O'})\n",
        "print(reac)\n",
        "print(prod)"
      ],
      "metadata": {
        "colab": {
          "base_uri": "https://localhost:8080/"
        },
        "id": "mO-Ye-msUoRc",
        "outputId": "beacf415-5e24-4a48-9b08-ddba0669fa22"
      },
      "execution_count": 6,
      "outputs": [
        {
          "output_type": "stream",
          "name": "stdout",
          "text": [
            "OrderedDict([('C4H8', 1), ('O2', 6)])\n",
            "OrderedDict([('CO2', 4), ('H2O', 4)])\n"
          ]
        }
      ]
    },
    {
      "cell_type": "code",
      "source": [
        "from chempy import chemistry\n",
        "reaction = chemistry.Reaction({'C4H8': 1, 'O2': 6}, {'CO2': 4, 'H2O': 4})\n",
        "print(reaction)"
      ],
      "metadata": {
        "colab": {
          "base_uri": "https://localhost:8080/"
        },
        "id": "0KnjnZShUyFo",
        "outputId": "a719000e-50a2-4e94-b1ea-72cd466c270a"
      },
      "execution_count": 7,
      "outputs": [
        {
          "output_type": "stream",
          "name": "stdout",
          "text": [
            "C4H8 + 6 O2 -> 4 CO2 + 4 H2O\n"
          ]
        }
      ]
    },
    {
      "cell_type": "markdown",
      "source": [
        "## Pregunta 4: SMILES, RDKit y Open Babel (4 puntos)"
      ],
      "metadata": {
        "id": "Rh-nAUiKhJNB"
      }
    },
    {
      "cell_type": "markdown",
      "source": [
        "Colecta la representación SMILES de 10 fármacos usando RDKit y preoptimiza sus estructuras."
      ],
      "metadata": {
        "id": "NIkI45Xdqqnt"
      }
    },
    {
      "cell_type": "code",
      "source": [
        "!pip install rdkit"
      ],
      "metadata": {
        "id": "xsN5FBCZPbnk"
      },
      "execution_count": null,
      "outputs": []
    },
    {
      "cell_type": "code",
      "source": [
        "!obabel --help"
      ],
      "metadata": {
        "id": "NVvXvbknPg2f"
      },
      "execution_count": null,
      "outputs": []
    },
    {
      "cell_type": "code",
      "source": [
        "!apt-get -qq install -y openbabel"
      ],
      "metadata": {
        "id": "P0R4hM4EPg1T"
      },
      "execution_count": 18,
      "outputs": []
    },
    {
      "cell_type": "code",
      "source": [
        "!obabel -i smi farma.smi -o sdf --gen3D > farmbabel.sdf"
      ],
      "metadata": {
        "colab": {
          "base_uri": "https://localhost:8080/"
        },
        "id": "smz-mE_cYA2k",
        "outputId": "41d9844d-0728-4e54-9833-fe738eec87db"
      },
      "execution_count": 22,
      "outputs": [
        {
          "output_type": "stream",
          "name": "stdout",
          "text": [
            "10 molecules converted\n"
          ]
        }
      ]
    },
    {
      "cell_type": "code",
      "source": [
        "!grep WARNING farmbabel.sdf"
      ],
      "metadata": {
        "id": "5vFpRTVPhPTt"
      },
      "execution_count": 24,
      "outputs": []
    },
    {
      "cell_type": "code",
      "source": [
        "!obabel -isdf farmbabel.sdf -osdf -OFARMA.sdf -m"
      ],
      "metadata": {
        "colab": {
          "base_uri": "https://localhost:8080/"
        },
        "id": "X8HSF9VOhWpd",
        "outputId": "952af09a-9b80-4bcb-b80d-f547ef2bd13f"
      },
      "execution_count": 28,
      "outputs": [
        {
          "output_type": "stream",
          "name": "stdout",
          "text": [
            "10 molecules converted\n",
            "10 files output. The first is FARMA1.sdf\n"
          ]
        }
      ]
    },
    {
      "cell_type": "code",
      "source": [
        "from rdkit import Chem\n",
        "from rdkit.Chem import Draw"
      ],
      "metadata": {
        "id": "LQyPB5hRjdeb"
      },
      "execution_count": 29,
      "outputs": []
    },
    {
      "cell_type": "code",
      "source": [
        "farmacos1 = ['CC(=O)NC1=CC=C(C=C1)O', 'CC1=CN=C(C(=C1)OC)C(=O)NCCC2=CC=CC=C2', 'CC(C)(C)OC1=CC(=CC=C1)CC(CNC(C)C)O', 'CC(=O)OC1=CC=CC=C1C(=O)O', 'CC(C)Cc1ccc(cc1)[C@@H](C)C(=O)O', 'CCN[C@@H](C1=CC2=C(C=C1)NC(=O)C=C2)C1=CC=C(OCCO)C=C1', 'CC1=CC(=O)C2=C(C=C1)C=CC(=O)C2=O', 'CN(C)C(=O)[C@@H]1CN(C)[C@H]2Cc3ccc(cc3C(=O)C2=C1)O', 'CN(C)C(=O)C1=CC2=C(C=C1)OC3=CC=CC=C3C2=O', 'CCC(C)C(=O)OC1=CC=C(C=C1)C2=CC(=CC=C2)C(C)CC[C@H](C)C(=O)O'\n",
        "]\n",
        "\n",
        "mol_list = [Chem.MolFromSmiles(x) for x in farmacos1]\n",
        "\n",
        "imagen = Draw.MolsToGridImage(mol_list)\n",
        "imagen"
      ],
      "metadata": {
        "colab": {
          "base_uri": "https://localhost:8080/",
          "height": 817
        },
        "id": "GhIGS_-Rjm9l",
        "outputId": "47907da5-c552-4ffb-fe15-d86a0629b2e3"
      },
      "execution_count": 30,
      "outputs": [
        {
          "output_type": "execute_result",
          "data": {
            "image/png": "[encoded data removed]",
            "text/plain": [
              "<IPython.core.display.Image object>"
            ]
          },
          "metadata": {},
          "execution_count": 30
        }
      ]
    },
    {
      "cell_type": "markdown",
      "source": [
        "## Pregunta 5: Método científico (4 puntos)"
      ],
      "metadata": {
        "id": "CuzCcXJghR14"
      }
    },
    {
      "cell_type": "markdown",
      "source": [
        "Leer el artículo disponibilizado por el profesor y explica cómo es aplicado el método científico. Emplea como máximo 300 palabras."
      ],
      "metadata": {
        "id": "WngRSR-Rhmx1"
      }
    },
    {
      "cell_type": "markdown",
      "source": [
        "Primero, se identifica el problema: la dificultad de los estudiantes para comprender conceptos a nivel electrónico como electronegatividad, efecto de apantallamiento de los electrones, energía de ionización, carga nuclear efectiva, entre otros.\n",
        "\n",
        "Luego, se propone una hipótesis: el uso de cajas de huevos y bolas de ping-pong como modelo corpuscular podría ayudar a los estudiantes a entender estos conceptos.\n",
        "\n",
        "Se realiza un experimento en el aula, donde las cajas de huevo representan los orbitales y las bolas de ping-pong representan los electrones. Este modelo se utiliza para explicar datos numéricos de la energía de ionización como propiedad periódica.\n",
        "\n",
        "Finalmente, se analizan los resultados. Los modelos fueron bien asimilados por los estudiantes evaluados y permitieron generar discusiones dentro del aula de clase, espacios argumentativos y descripción de modelos o predicción de modelos bajo una conceptualización didáctica grupal. Esto valida la hipótesis inicial y demuestra la efectividad del método propuesto.\n"
      ],
      "metadata": {
        "id": "9fKTPM_LmvmU"
      }
    }
  ]
}