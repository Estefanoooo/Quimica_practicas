{
  "nbformat": 4,
  "nbformat_minor": 0,
  "metadata": {
    "colab": {
      "provenance": [],
      "authorship_tag": "ABX9TyMPbksiDo5xRYavHyrvgigA",
      "include_colab_link": true
    },
    "kernelspec": {
      "name": "python3",
      "display_name": "Python 3"
    },
    "language_info": {
      "name": "python"
    }
  },
  "cells": [
    {
      "cell_type": "markdown",
      "metadata": {
        "id": "view-in-github",
        "colab_type": "text"
      },
      "source": [
        "<a href=\"https://colab.research.google.com/github/Estefanoooo/Quimica_practicas/blob/main/PC_LIQUIDOS_SOLUCIONES/PC_L%C3%ADquidos_soluciones.ipynb\" target=\"_parent\"><img src=\"https://colab.research.google.com/assets/colab-badge.svg\" alt=\"Open In Colab\"/></a>"
      ]
    },
    {
      "cell_type": "markdown",
      "source": [
        "### **Fuerzas intermoleculares**"
      ],
      "metadata": {
        "id": "L7XKAR_HOb3N"
      }
    },
    {
      "cell_type": "markdown",
      "source": [
        "11.1\n",
        "\n",
        "a) Interacción dipolo-dipolo: HCl.\n",
        "b) Interacción dipolo-dipolo inducido: CO2.\n",
        "c) Interacción ion-dipolo: NaCl en agua.\n",
        "d) Fuerzas de dispersión: He.\n",
        "e) Fuerzas de van der Waals: Engloba todas las anteriores.\n",
        "\n",
        "\n",
        "11.3\n",
        "\n",
        "La diferencia entre un momento dipolar temporal y un momento dipolar permanente radica en su duración y origen:\n",
        "\n",
        "Momento dipolar permanente: Es una distribución de carga asimétrica constante en una molécula debido a la diferencia de electronegatividad entre los átomos, y no cambia con el tiempo. Ejemplo: HCl.\n",
        "\n",
        "Momento dipolar temporal: Surge temporalmente debido a fluctuaciones en la distribución electrónica en una molécula. Este momento dipolar es inestable y varía constantemente, como en el CO2.\n",
        "\n",
        "11.4\n",
        "\n",
        "-La formación de sólidos y líquidos a temperaturas bajas debido a fuerzas de atracción intermoleculares.\n",
        "\n",
        "-La existencia de tensión superficial, donde la superficie de un líquido actúa como una \"piel\" debido a fuerzas de atracción entre moléculas.\n",
        "\n",
        "-La formación de soluciones y la capacidad de disolverse en un disolvente debido a interacciones entre moléculas del soluto y del disolvente.\n",
        "\n",
        "-Cambios en propiedades físicas, como el punto de ebullición y el punto de fusión, que están relacionados con la intensidad de las fuerzas intermoleculares.\n",
        "\n",
        "11.5\n",
        "\n",
        "Al comparar la intensidad de las fuerzas intermoleculares en sólidos\n",
        " y líquidos, se deben considerar propiedades físicas como el punto de\n",
        " ebullición, el punto de fusión, la viscosidad y la densidad. Los sólidos\n",
        " tienden a tener puntos de ebullición y fusión más altos, mayor viscosidad\n",
        "  y densidad en comparación con los líquidos, debido a la mayor fuerza\n",
        "  de atracción entre las partículas en los sólidos.\n",
        "\n",
        "11.6\n",
        "\n",
        "Elementos que pueden participar en enlaces de hidrógeno incluyen H, N, O y F. El hidrógeno es único en este tipo de interacción debido a su pequeño tamaño y alta polaridad. Esto permite que el hidrógeno comparta su electrón con átomos altamente electronegativos, creando una fuerte atracción entre el hidrógeno y el átomo electronegativo, lo que es característico de los enlaces de hidrógeno. Ejemplos incluyen el agua (H2O), el amoníaco (NH3) y el ácido acético (CH3COOH)."
      ],
      "metadata": {
        "id": "DeH1dyW6TXgT"
      }
    },
    {
      "cell_type": "markdown",
      "source": [
        "### **Propiedades de los líquidos**"
      ],
      "metadata": {
        "id": "Urm3JjbZUQ2i"
      }
    },
    {
      "cell_type": "markdown",
      "source": [
        "11.21\n",
        "\n",
        "Los líquidos, a diferencia de los gases, son prácticamente incompresibles debido a la proximidad relativa de las partículas en un líquido. En un gas, las partículas están separadas por distancias mucho mayores y tienen un mayor grado de libertad de movimiento, lo que permite una mayor compresibilidad. En un líquido, las partículas están más cerca unas de otras, lo que limita su capacidad para comprimirse significativamente bajo presiones típicas.\n",
        "\n",
        "11.22\n",
        "\n",
        "La tensión superficial es la propiedad que hace que la superficie de un líquido actúe como una película elástica debido a las fuerzas intermoleculares entre las moléculas en la superficie. Cuanto más fuertes sean las fuerzas intermoleculares, mayor será la tensión superficial. La tensión superficial disminuye con el aumento de la temperatura, ya que las moléculas ganan más energía cinética y se mueven con mayor libertad en la superficie del líquido.\n",
        "\n",
        "11.23\n",
        "\n",
        "Aunque el acero inoxidable es más denso que el agua, una navaja de afeitar de acero inoxidable puede flotar en el agua debido al principio de flotación de Arquímedes. Este principio establece que un objeto flotará en un líquido si desplaza una cantidad de líquido igual a su propio peso. El acero inoxidable es aún más denso que el agua, pero la forma y la estructura de la navaja de afeitar hacen que desplace una cantidad suficiente de agua para que su peso se equilibre con la fuerza de flotación que actúa sobre ella.\n",
        "\n",
        "11.25\n",
        "\n",
        "El agua no se derrama cuando se llena un vaso justo por encima del borde debido a la tensión superficial. La tensión superficial del agua actúa como una película elástica en la superficie del líquido, evitando que el agua se derrame. Sin embargo, si se llena demasiado el vaso, la tensión superficial puede romperse y el agua se desbordará. La tensión superficial mantiene el agua dentro del vaso mientras la fuerza gravitatoria que actúa hacia abajo se equilibra con la fuerza de tensión superficial hacia arriba."
      ],
      "metadata": {
        "id": "PLWE_V_GVIkt"
      }
    },
    {
      "cell_type": "markdown",
      "source": [
        "12.3\n",
        "\n",
        "El proceso de disolución a nivel molecular implica la separación de las partículas del soluto y su dispersión en el solvente. Las fuerzas intermoleculares entre las moléculas del soluto se rompen a medida que el soluto se mezcla con el solvente, permitiendo que las moléculas del soluto se integren en la estructura del solvente.\n",
        "\n",
        "12.4\n",
        "\n",
        "\"Lo semejante disuelve lo semejante\" significa que las sustancias con fuerzas intermoleculares similares tienden a disolverse entre sí debido a una mayor afinidad química. Por ejemplo, sustancias polares tienden a disolverse en solventes polares, mientras que sustancias no polares tienden a disolverse en solventes no polares.\n",
        "\n",
        "\n",
        "12.6\n",
        "\n",
        "La diferencia entre procesos de disolución endotérmicos y exotérmicos se debe a la cantidad de energía involucrada. En una disolución endotérmica, se aporta energía para romper las fuerzas intermoleculares entre las partículas del soluto y solvente, lo que aumenta la energía cinética. En una disolución exotérmica, se libera energía al formar nuevas fuerzas intermoleculares, disminuyendo la energía cinética.\n",
        "\n",
        "12.7\n",
        "\n",
        "El proceso de disolución aumenta el desorden porque las partículas del soluto se dispersan en el solvente, lo que genera más posiciones y configuraciones posibles para las partículas. Este aumento en el desorden es una consecuencia natural de la tendencia hacia la máxima entropía en un sistema, donde las partículas tienden a distribuirse en el mayor número de formas posibles."
      ],
      "metadata": {
        "id": "WpBACWKZXUbO"
      }
    },
    {
      "cell_type": "markdown",
      "source": [
        "### **Unidades** **de** **concentración**"
      ],
      "metadata": {
        "id": "KM575585daQM"
      }
    },
    {
      "cell_type": "code",
      "source": [
        "#12.15\n",
        "masa_soluto = [5.50, 31.0, 4.5]  # g\n",
        "masa_disolucion = [78.2, 152, 29]  # g\n",
        "\n",
        "# Calcular el porcentaje en masa para cada caso\n",
        "porcentaje_en_masa = [(masa_soluto[i] / masa_disolucion[i]) * 100 for i in range(3)]\n",
        "\n",
        "for i, porcentaje in enumerate(porcentaje_en_masa):\n",
        "    print(f\"Porcentaje en masa ({chr(97 + i)}): {porcentaje:.2f}%\")\n"
      ],
      "metadata": {
        "colab": {
          "base_uri": "https://localhost:8080/"
        },
        "id": "za6YBKhyfSub",
        "outputId": "78dbabb7-a6cd-4df5-e631-2b2c8d88f876"
      },
      "execution_count": 2,
      "outputs": [
        {
          "output_type": "stream",
          "name": "stdout",
          "text": [
            "Porcentaje en masa (a): 7.03%\n",
            "Porcentaje en masa (b): 20.39%\n",
            "Porcentaje en masa (c): 15.52%\n"
          ]
        }
      ]
    },
    {
      "cell_type": "code",
      "source": [
        "#12.16\n",
        "datos_disoluciones = [(5, 16.2), (26.2, 1.5)]\n",
        "\n",
        "for masa_soluto, porcentaje_masa in datos_disoluciones:\n",
        "\n",
        "    mA = masa_soluto / ((porcentaje_masa / 100) )\n",
        "\n",
        "\n",
        "    print(f\" se deben agregar {mA:.2f}g de agua.\")\n"
      ],
      "metadata": {
        "colab": {
          "base_uri": "https://localhost:8080/"
        },
        "id": "eD5-SjeihNOM",
        "outputId": "91cfdbd6-cad1-4a81-e9ef-809f8d0e4654"
      },
      "execution_count": 5,
      "outputs": [
        {
          "output_type": "stream",
          "name": "stdout",
          "text": [
            " se deben agregar 30.86g de agua.\n",
            " se deben agregar 1746.67g de agua.\n"
          ]
        }
      ]
    },
    {
      "cell_type": "code",
      "source": [
        "#12.17\n",
        "masa_soluto_a = 14.3  # g\n",
        "masa_agua_a = 676  # g\n",
        "masa_molar_sacarosa = 342.3  # g/mol\n",
        "moles_soluto_b = 7.20  # moles\n",
        "masa_agua_b = 3546  # g\n",
        "\n",
        "# Calcular la molalidad para ambos casos\n",
        "molalidad_a = (masa_soluto_a / masa_molar_sacarosa) / (masa_agua_a / 1000)  # Convertir masa de agua a kg\n",
        "molalidad_b = moles_soluto_b / (masa_agua_b / 1000)  # Convertir masa de agua a kg\n",
        "\n",
        "print(f\"Molalidad (a): {molalidad_a:.4f} mol/kg\")\n",
        "print(f\"Molalidad (b): {molalidad_b:.4f} mol/kg\")\n"
      ],
      "metadata": {
        "colab": {
          "base_uri": "https://localhost:8080/"
        },
        "id": "wgzgvOW2hjHk",
        "outputId": "4f21c9bf-ebf0-47fc-97de-0ef9f34f9dde"
      },
      "execution_count": 6,
      "outputs": [
        {
          "output_type": "stream",
          "name": "stdout",
          "text": [
            "Molalidad (a): 0.0618 mol/kg\n",
            "Molalidad (b): 2.0305 mol/kg\n"
          ]
        }
      ]
    },
    {
      "cell_type": "code",
      "source": [
        "#12.19\n",
        "concentracion_molar_a = 1.22  # M\n",
        "concentracion_molar_b = 0.87  # M\n",
        "concentracion_molar_c = 5.24  # M\n",
        "# Dado que la densidad es aproximadamente igual a la del disolvente (agua), la molalidad es igual a la molaridad\n",
        "molalidad_a = concentracion_molar_a\n",
        "molalidad_b = concentracion_molar_b\n",
        "molalidad_c = concentracion_molar_c\n",
        "\n",
        "print(f\"Molalidad (a): {molalidad_a:.2f} mol/kg\")\n",
        "print(f\"Molalidad (b): {molalidad_b:.2f} mol/kg\")\n",
        "print(f\"Molalidad (c): {molalidad_c:.2f} mol/kg\")\n"
      ],
      "metadata": {
        "colab": {
          "base_uri": "https://localhost:8080/"
        },
        "id": "AEL4NoCsht6S",
        "outputId": "106aeddc-cb20-4c41-fd62-e85092ffbe43"
      },
      "execution_count": 7,
      "outputs": [
        {
          "output_type": "stream",
          "name": "stdout",
          "text": [
            "Molalidad (a): 1.22 mol/kg\n",
            "Molalidad (b): 0.87 mol/kg\n",
            "Molalidad (c): 5.24 mol/kg\n"
          ]
        }
      ]
    },
    {
      "cell_type": "code",
      "source": [
        "#12.21\n",
        "porcentaje_prueba = 75\n",
        "volumen_ginebra_L = 1.00\n",
        "densidad_etanol = 0.798\n",
        "\n",
        "porcentaje_etanol = porcentaje_prueba / 2\n",
        "\n",
        "masa_etanol_g = volumen_ginebra_L * densidad_etanol * porcentaje_etanol / 1000\n",
        "\n",
        "print(f'La masa de etanol  es de {masa_etanol_g:.2f} gramos.')"
      ],
      "metadata": {
        "colab": {
          "base_uri": "https://localhost:8080/"
        },
        "id": "8G-v5RJriH4C",
        "outputId": "eb00ed9e-a4ee-49b2-a58f-85aef6475e93"
      },
      "execution_count": 8,
      "outputs": [
        {
          "output_type": "stream",
          "name": "stdout",
          "text": [
            "La masa de etanol  es de 0.03 gramos.\n"
          ]
        }
      ]
    },
    {
      "cell_type": "code",
      "source": [
        "#12.23\n",
        "masa_nh3 = 30.0  # g\n",
        "masa_agua = 70.0  # g\n",
        "densidad_disolucion = 0.982  # g/mL\n",
        "\n",
        "# Calcular la molaridad\n",
        "volumen_disolucion = masa_agua / densidad_disolucion\n",
        "moles_nh3 = masa_nh3 / 17.03\n",
        "molaridad = moles_nh3 / (volumen_disolucion / 1000)\n",
        "\n",
        "# Calcular la molalidad\n",
        "molalidad = moles_nh3 / (masa_agua / 1000)\n",
        "\n",
        "print(f\"Molaridad: {molaridad:.4f} mol/L\")\n",
        "print(f\"Molalidad: {molalidad:.4f} mol/kg\")"
      ],
      "metadata": {
        "colab": {
          "base_uri": "https://localhost:8080/"
        },
        "id": "p83qscafiiTy",
        "outputId": "853893a3-ca60-45ab-9288-2ccd28050408"
      },
      "execution_count": 11,
      "outputs": [
        {
          "output_type": "stream",
          "name": "stdout",
          "text": [
            "Molaridad: 24.7127 mol/L\n",
            "Molalidad: 25.1657 mol/kg\n"
          ]
        }
      ]
    },
    {
      "cell_type": "markdown",
      "source": [
        "### **Efecto de la temperatura en la solubilidad**"
      ],
      "metadata": {
        "id": "RFoavaERkOs5"
      }
    },
    {
      "cell_type": "code",
      "source": [
        "# 12.27\n",
        "masa_sal = 3.20  # g\n",
        "masa_agua = 9.10  # g\n",
        "\n",
        "# Calcular la solubilidad en g de sal por 100 g de agua\n",
        "solubilidad = (masa_sal / masa_agua) * 100\n",
        "print(f\"Solubilidad de la sal: {solubilidad:.2f} g de sal/100 g de agua\")"
      ],
      "metadata": {
        "colab": {
          "base_uri": "https://localhost:8080/"
        },
        "id": "uoA4_I0qioOi",
        "outputId": "ff53d6bb-a572-40c3-dcbb-bdd66b8311b6"
      },
      "execution_count": 12,
      "outputs": [
        {
          "output_type": "stream",
          "name": "stdout",
          "text": [
            "Solubilidad de la sal: 35.16 g de sal/100 g de agua\n"
          ]
        }
      ]
    }
  ]
}