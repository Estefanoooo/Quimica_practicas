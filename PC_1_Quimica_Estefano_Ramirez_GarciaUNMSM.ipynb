{
  "nbformat": 4,
  "nbformat_minor": 0,
  "metadata": {
    "colab": {
      "provenance": [],
      "include_colab_link": true
    },
    "kernelspec": {
      "name": "python3",
      "display_name": "Python 3"
    },
    "language_info": {
      "name": "python"
    },
    "widgets": {
      "application/vnd.jupyter.widget-state+json": {
        "6139da3c440b4347bbc8073bff9194d5": {
          "model_module": "faerun-notebook",
          "model_name": "SmilesDrawerModel",
          "model_module_version": "^0.1.5",
          "state": {
            "_dom_classes": [],
            "_model_module": "faerun-notebook",
            "_model_module_version": "^0.1.5",
            "_model_name": "SmilesDrawerModel",
            "_view_count": null,
            "_view_module": "faerun-notebook",
            "_view_module_version": "^0.1.5",
            "_view_name": "SmilesDrawerView",
            "background": "#1e1e1e",
            "border": true,
            "layout": "IPY_MODEL_55cd2d2cadf543189ec2dcb3c91ecb43",
            "options": {
              "scale": 1.25
            },
            "output": "svg",
            "theme": "dark",
            "value": [
              [
                "Rxn",
                "C(C1C(C(C(C(O1)O)O)O)O)O.O=O>>C(=O)=O.O"
              ]
            ]
          }
        },
        "55cd2d2cadf543189ec2dcb3c91ecb43": {
          "model_module": "@jupyter-widgets/base",
          "model_name": "LayoutModel",
          "model_module_version": "1.2.0",
          "state": {
            "_model_module": "@jupyter-widgets/base",
            "_model_module_version": "1.2.0",
            "_model_name": "LayoutModel",
            "_view_count": null,
            "_view_module": "@jupyter-widgets/base",
            "_view_module_version": "1.2.0",
            "_view_name": "LayoutView",
            "align_content": null,
            "align_items": null,
            "align_self": null,
            "border": null,
            "bottom": null,
            "display": null,
            "flex": null,
            "flex_flow": null,
            "grid_area": null,
            "grid_auto_columns": null,
            "grid_auto_flow": null,
            "grid_auto_rows": null,
            "grid_column": null,
            "grid_gap": null,
            "grid_row": null,
            "grid_template_areas": null,
            "grid_template_columns": null,
            "grid_template_rows": null,
            "height": null,
            "justify_content": null,
            "justify_items": null,
            "left": null,
            "margin": null,
            "max_height": null,
            "max_width": null,
            "min_height": null,
            "min_width": null,
            "object_fit": null,
            "object_position": null,
            "order": null,
            "overflow": null,
            "overflow_x": null,
            "overflow_y": null,
            "padding": null,
            "right": null,
            "top": null,
            "visibility": null,
            "width": null
          }
        }
      }
    }
  },
  "cells": [
    {
      "cell_type": "markdown",
      "metadata": {
        "id": "view-in-github",
        "colab_type": "text"
      },
      "source": [
        "<a href=\"https://colab.research.google.com/github/Estefanoooo/Quimica_practicas/blob/main/PC_1_Quimica_Estefano_Ramirez_GarciaUNMSM.ipynb\" target=\"_parent\"><img src=\"https://colab.research.google.com/assets/colab-badge.svg\" alt=\"Open In Colab\"/></a>"
      ]
    },
    {
      "cell_type": "markdown",
      "source": [
        "$$\\Large \\textit{UNMSM | Química}$$\n",
        "$$\\large \\textbf{PC Nº1 | Materia y clasificación}$$\n",
        "\n",
        "_Profesor: Jesus Alvarado Huayhuaz_"
      ],
      "metadata": {
        "id": "sDJAjbaQOj4x"
      }
    },
    {
      "cell_type": "markdown",
      "source": [
        "Todas las indicaciones para la presentación de la práctica son explicadas en clase y brindadas en el material de enunciado de preguntas en formato PDF."
      ],
      "metadata": {
        "id": "_DsTzWLoP7Fy"
      }
    },
    {
      "cell_type": "markdown",
      "source": [
        "## Pregunta 1: Sobre el ABC de python (4 puntos)"
      ],
      "metadata": {
        "id": "obD7c2igOD6t"
      }
    },
    {
      "cell_type": "markdown",
      "source": [
        "Durante la semana de revisión del material \"ABC de python\", reflexiona sobre qué conceptos aprendiste con claridad y cuáles consideras los más desafiantes. A continuación resuelve los siguiente ejercicios, puedes ayudarte del material en http://bit.ly/3YKICSZ."
      ],
      "metadata": {
        "id": "emt93S7dL7QH"
      }
    },
    {
      "cell_type": "code",
      "source": [
        "# Imprime la versión de python que usas y las palabras reservadas de python para esa versión.\n",
        "!python --version\n",
        "help('keywords')"
      ],
      "metadata": {
        "id": "6mJvqMN0LTU8",
        "colab": {
          "base_uri": "https://localhost:8080/"
        },
        "outputId": "06599a3a-8798-426c-a5a4-0c987eb4f195"
      },
      "execution_count": null,
      "outputs": [
        {
          "output_type": "stream",
          "name": "stdout",
          "text": [
            "Python 3.10.12\n",
            "\n",
            "Here is a list of the Python keywords.  Enter any keyword to get more help.\n",
            "\n",
            "False               class               from                or\n",
            "None                continue            global              pass\n",
            "True                def                 if                  raise\n",
            "and                 del                 import              return\n",
            "as                  elif                in                  try\n",
            "assert              else                is                  while\n",
            "async               except              lambda              with\n",
            "await               finally             nonlocal            yield\n",
            "break               for                 not                 \n",
            "\n"
          ]
        }
      ]
    },
    {
      "cell_type": "code",
      "source": [
        "# Crea una matriz de 3x3 e imprime la suma de los elementos en su diagonal (traza).\n",
        "matriz = [\n",
        "    [8, 4, 8],\n",
        "    [2, 1, 7],\n",
        "    [4, 6, 7]\n",
        "]\n",
        "suma_diagonal = matriz[0][0] + matriz[1][1] + matriz[2][2]\n",
        "print(\"La suma de los elementos en la diagonal es:\", suma_diagonal)"
      ],
      "metadata": {
        "id": "MxDzGypdLTXh",
        "colab": {
          "base_uri": "https://localhost:8080/"
        },
        "outputId": "102e1c94-5773-4a93-b8e8-78c054876eb7"
      },
      "execution_count": null,
      "outputs": [
        {
          "output_type": "stream",
          "name": "stdout",
          "text": [
            "La suma de los elementos en la diagonal es: 16\n"
          ]
        }
      ]
    },
    {
      "cell_type": "code",
      "source": [
        "# Guarda como variable la masa atómica de los elementos C, H y O, e imprime la masa molecular del etanol.\n",
        "C=12\n",
        "H=1\n",
        "O=16\n",
        "etanol=(C*2+H*6+O)\n",
        "print('La masa del etanol es', etanol)"
      ],
      "metadata": {
        "id": "MyhNX7JmLTSe",
        "colab": {
          "base_uri": "https://localhost:8080/"
        },
        "outputId": "96179b91-d0e2-4565-ec92-9434f3d34475"
      },
      "execution_count": null,
      "outputs": [
        {
          "output_type": "stream",
          "name": "stdout",
          "text": [
            "La masa del etanol es 46\n"
          ]
        }
      ]
    },
    {
      "cell_type": "code",
      "source": [
        "# Busca la temperatura de fusión en Celsius de 5 metales y guárdalos en una lista. Imprime las temperaturas en Kelvin\n",
        "metales=[\"Plata\",\"Oro\",\"Estaño\",\"Hierro\",\"Tungsteno\"]\n",
        "temp=[962,1064,232,1538,3422]\n",
        "for i in range(len(temp)):\n",
        "    temp_kelvin = temp[i] + 273\n",
        "    if metales[i] == \"Plata\":\n",
        "        print(\"La temperatura de fusión en kelvin de la\", metales[i], \"es\", temp_kelvin)\n",
        "    else:\n",
        "        print(\"La temperatura de fusión en kelvin del\", metales[i], \"es\", temp_kelvin)"
      ],
      "metadata": {
        "id": "NCOnJ0FwgLLc",
        "colab": {
          "base_uri": "https://localhost:8080/"
        },
        "outputId": "935f2985-cbd5-4fca-cb73-4c875166854d"
      },
      "execution_count": null,
      "outputs": [
        {
          "output_type": "stream",
          "name": "stdout",
          "text": [
            "La temperatura de fusión en kelvin de la Plata es 1235\n",
            "La temperatura de fusión en kelvin del Oro es 1337\n",
            "La temperatura de fusión en kelvin del Estaño es 505\n",
            "La temperatura de fusión en kelvin del Hierro es 1811\n",
            "La temperatura de fusión en kelvin del Tungsteno es 3695\n"
          ]
        }
      ]
    },
    {
      "cell_type": "markdown",
      "source": [
        "## Pregunta 2: Operaciones (4 puntos)"
      ],
      "metadata": {
        "id": "epzOadagLfPi"
      }
    },
    {
      "cell_type": "markdown",
      "source": [
        "Escribe un programa que lea repetidamente elementos químicos en español hasta que el usuario introduzca “fin”. Una vez se haya introducido “fin”, muestra por pantalla (o sea imprime) el total de elementos ingresados. Si el usuario introduce cualquier otra cosa que no sea un elemento químico, detecta su fallo usando try y except, muestra un mensaje de error y pasa al siguiente elemento."
      ],
      "metadata": {
        "id": "MbAEOGPsjOWZ"
      }
    },
    {
      "cell_type": "code",
      "source": [
        "elementos = []\n",
        "while True:\n",
        "    elemento = input(\"Introduce un elemento químico en español o 'fin' para terminar: \")\n",
        "    if elemento == \"fin\":\n",
        "        break\n",
        "    try:\n",
        "        if elemento not in [\"Hidrógeno\", \"Helio\", \"Litio\", \"Berilio\", \"Boro\", \"Carbono\", \"Nitrógeno\", \"Oxígeno\", \"Flúor\", \"Neón\"]:\n",
        "            raise ValueError\n",
        "        elementos.append(elemento)\n",
        "    except ValueError:\n",
        "        print(\"Error: El elemento introducido no es válido. Inténtalo de nuevo.\")\n",
        "\n",
        "print(\"Total de elementos ingresados:\", len(elementos))"
      ],
      "metadata": {
        "id": "gJGX0p5QLetj",
        "colab": {
          "base_uri": "https://localhost:8080/"
        },
        "outputId": "eef3c24d-0b87-4f9c-acc2-af19eb06abc0"
      },
      "execution_count": null,
      "outputs": [
        {
          "output_type": "stream",
          "name": "stdout",
          "text": [
            "Introduce un elemento químico en español o 'fin' para terminar: Boro\n",
            "Introduce un elemento químico en español o 'fin' para terminar: magnesio\n",
            "Error: El elemento introducido no es válido. Inténtalo de nuevo.\n",
            "Introduce un elemento químico en español o 'fin' para terminar: Helio\n",
            "Introduce un elemento químico en español o 'fin' para terminar: fin\n",
            "Total de elementos ingresados: 2\n"
          ]
        }
      ]
    },
    {
      "cell_type": "markdown",
      "source": [
        "# Pregunta 3: Conservación de la masa (4 puntos)"
      ],
      "metadata": {
        "id": "8gxSHpD3LZsh"
      }
    },
    {
      "cell_type": "markdown",
      "source": [
        "### Código necesario para generar la imagen"
      ],
      "metadata": {
        "id": "mMV9c3hDl7KL"
      }
    },
    {
      "cell_type": "code",
      "source": [
        "!pip install faerun-notebook==0.1.5b0\n",
        "\n",
        "import ipywidgets as widgets\n",
        "from faerun_notebook import SmilesDrawer\n",
        "from google.colab import output\n",
        "output.enable_custom_widget_manager()"
      ],
      "metadata": {
        "id": "JgF8Ohtbky65"
      },
      "execution_count": null,
      "outputs": []
    },
    {
      "cell_type": "markdown",
      "source": [
        "### Reacción química"
      ],
      "metadata": {
        "id": "5sLC10D_oSrV"
      }
    },
    {
      "cell_type": "markdown",
      "source": [
        "Demuestra cómo se cumple la conservación de la masa en la siguiente reacción química. Sugerencia: hacer un balance estequiométrico y luego emplear la masa molecular de reactivos y productos."
      ],
      "metadata": {
        "id": "OVRhAzaVmD86"
      }
    },
    {
      "cell_type": "code",
      "source": [
        "SmilesDrawer(value=[(\"Rxn\", \"C(C1C(C(C(C(O1)O)O)O)O)O.O=O>>C(=O)=O.O\")], theme='dark', background=\"#1e1e1e\", options={'scale': 1.25})\n"
      ],
      "metadata": {
        "colab": {
          "base_uri": "https://localhost:8080/",
          "height": 289,
          "referenced_widgets": [
            "6139da3c440b4347bbc8073bff9194d5",
            "55cd2d2cadf543189ec2dcb3c91ecb43"
          ]
        },
        "id": "CC0mAXWmnYyN",
        "outputId": "26d8b878-7e3a-4e7a-e9cc-ec89206b6080"
      },
      "execution_count": null,
      "outputs": [
        {
          "output_type": "display_data",
          "data": {
            "text/plain": [
              "SmilesDrawer(background='#1e1e1e', options={'scale': 1.25}, theme='dark', value=[('Rxn', 'C(C1C(C(C(C(O1)O)O)O…"
            ],
            "application/vnd.jupyter.widget-view+json": {
              "version_major": 2,
              "version_minor": 0,
              "model_id": "6139da3c440b4347bbc8073bff9194d5"
            }
          },
          "metadata": {
            "application/vnd.jupyter.widget-view+json": {
              "colab": {
                "custom_widget_manager": {
                  "url": "https://ssl.gstatic.com/colaboratory-static/widgets/colab-cdn-widget-manager/b3e629b1971e1542/manager.min.js"
                }
              }
            }
          }
        }
      ]
    },
    {
      "cell_type": "code",
      "source": [
        "!pip install chempy"
      ],
      "metadata": {
        "id": "GohO6fYbOpX_"
      },
      "execution_count": null,
      "outputs": []
    },
    {
      "cell_type": "code",
      "source": [
        "from chempy import balance_stoichiometry\n",
        "reac, prod = balance_stoichiometry({'C6O6H5', 'O2'}, {'CO2', 'H2O'})\n",
        "print(reac)\n",
        "print(prod)"
      ],
      "metadata": {
        "colab": {
          "base_uri": "https://localhost:8080/"
        },
        "id": "F_p25CVgOunn",
        "outputId": "9f71f349-4263-4f99-ca92-d175a24e49e2"
      },
      "execution_count": null,
      "outputs": [
        {
          "output_type": "stream",
          "name": "stdout",
          "text": [
            "OrderedDict([('C6O6H5', 4), ('O2', 17)])\n",
            "OrderedDict([('CO2', 24), ('H2O', 10)])\n"
          ]
        }
      ]
    },
    {
      "cell_type": "code",
      "source": [
        "from chempy import chemistry\n",
        "reaction = chemistry.Reaction({'C6O6H5': 4, 'O2': 17}, {'CO2': 24, 'H2O': 10})\n",
        "print(reaction)"
      ],
      "metadata": {
        "colab": {
          "base_uri": "https://localhost:8080/"
        },
        "id": "CiY0c2CbPFW4",
        "outputId": "7473ea0e-2768-4693-8b15-192082da09bf"
      },
      "execution_count": null,
      "outputs": [
        {
          "output_type": "stream",
          "name": "stdout",
          "text": [
            "4 C6O6H5 + 17 O2 -> 24 CO2 + 10 H2O\n"
          ]
        }
      ]
    },
    {
      "cell_type": "code",
      "source": [
        "from chempy import Substance\n",
        "\n",
        "reac1 = Substance.from_formula('C6O6H5')\n",
        "reac2= Substance.from_formula('O2')\n",
        "prod1= Substance.from_formula('CO2')\n",
        "prod2=Substance.from_formula('H2O')\n",
        "\n",
        "masa_reactivos = 4 * reac1.mass + 17 * reac2.mass\n",
        "masa_productos = 24 * prod1.mass + 10 * prod2.mass\n",
        "print(masa_reactivos)\n",
        "print(masa_productos)\n",
        "if masa_reactivos == masa_productos:\n",
        "  print('Cumple con la conservacion de la masa')\n",
        "else :\n",
        "  print('No cumple la conservacion de la masa')"
      ],
      "metadata": {
        "colab": {
          "base_uri": "https://localhost:8080/"
        },
        "id": "jifu2SUtPR0i",
        "outputId": "eb79d811-d89b-48e8-80b9-a89819fbe063"
      },
      "execution_count": null,
      "outputs": [
        {
          "output_type": "stream",
          "name": "stdout",
          "text": [
            "1236.366\n",
            "1236.366\n",
            "Cumple con la conservacion de la masa\n"
          ]
        }
      ]
    },
    {
      "cell_type": "markdown",
      "source": [
        "## Pregunta 4: Notación científica (4 puntos)"
      ],
      "metadata": {
        "id": "Rh-nAUiKhJNB"
      }
    },
    {
      "cell_type": "markdown",
      "source": [
        "Imprime las siguientes operaciones según la notación científica:\n",
        "\n",
        "(1) $1.321 \\times 10^{-4} + 8.5 \\times 10^{-2}$\n",
        "\n",
        "(2) $1.71 \\times 10^{3} - 2.01 \\times 10^{2}\\$\n",
        "\n",
        "(3) $(7.4 \\times 10^5)(7.2 \\times 10^4)$\n",
        "\n",
        "(4) $(7.4 \\times 10^5)/(7.2 \\times 10^4)$"
      ],
      "metadata": {
        "id": "NIkI45Xdqqnt"
      }
    },
    {
      "cell_type": "code",
      "source": [
        "#1\n",
        "a1=1.321*(10**-4); b1=8.5*(10**-2)\n",
        "c1=a1+b1\n",
        "print('1) El resultado es',c1,'en NC 8.5 * 10^-2')\n",
        "#2\n",
        "a2=1.71*(10**3); b2=2.01*(10**2)\n",
        "c2=a2-b2\n",
        "print('2) El resultado es',c2,'en NC 1.5 * 10^3')\n",
        "#3\n",
        "a3=7.4*(10**5); b3=7.2*(10**4)\n",
        "c3=a3*b3\n",
        "print('3) El resultado es',c3,'en NC 5.3 * 10^10')\n",
        "#4\n",
        "c4=a3/b3\n",
        "print('4) El resultado es',c4,'en NC 1.0 * 10^1')\n",
        "\n"
      ],
      "metadata": {
        "colab": {
          "base_uri": "https://localhost:8080/"
        },
        "id": "cv01ktFGM--N",
        "outputId": "c90f2da2-aa3e-4d44-dba7-f49d7bbfc571"
      },
      "execution_count": null,
      "outputs": [
        {
          "output_type": "stream",
          "name": "stdout",
          "text": [
            "1) El resultado es 0.0851321 en NC 8.5 * 10^-2\n",
            "2) El resultado es 1509.0 en NC 1.5 * 10^3\n",
            "3) El resultado es 53280000000.0 en NC 5.3 * 10^10\n",
            "4) El resultado es 10.277777777777779 en NC 1.0 * 10^1\n"
          ]
        }
      ]
    },
    {
      "cell_type": "markdown",
      "source": [
        "## Pregunta 5: Método científico (4 puntos)"
      ],
      "metadata": {
        "id": "CuzCcXJghR14"
      }
    },
    {
      "cell_type": "markdown",
      "source": [
        "Artículo: https://bit.ly/3surZ1W\n",
        "Leer el siguiente artículo y explica cómo es aplicado el método científico. Emplea como máximo 300 palabras."
      ],
      "metadata": {
        "id": "WngRSR-Rhmx1"
      }
    },
    {
      "cell_type": "markdown",
      "source": [
        "Se examinó el potencial de la sustancia química LK-99 para funcionar como superconductor a temperatura ambiente. La cuestión surgió y se formó el concepto de su superconductividad después de escuchar una teoría surcoreana al respecto. Sin embargo, después de realizar pruebas para medir reacciones magnéticas y eléctricas, se determinó que las características reportadas no sugerían superconductividad. Los hallazgos obtenidos se atribuyeron a la presencia de contaminantes como el azufre de cobre.\n"
      ],
      "metadata": {
        "id": "SeI89r0n1nzw"
      }
    }
  ]
}